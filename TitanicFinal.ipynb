{
 "cells": [
  {
   "cell_type": "markdown",
   "id": "44b9d628",
   "metadata": {},
   "source": [
    "## <h1><center>This is my attempt  to solve the Titanic Challenge on Kaggle</center><h1>\n",
    "<h1><center><a href=https://www.kaggle.com/competitions/titanic>Click here to see the challenge</a></center></h1>"
   ]
  },
  {
   "cell_type": "code",
   "execution_count": 1,
   "id": "bfdff287",
   "metadata": {},
   "outputs": [
    {
     "data": {
      "text/html": [
       "<img src=\"https://upload.wikimedia.org/wikipedia/commons/thumb/f/fd/RMS_Titanic_3.jpg/979px-RMS_Titanic_3.jpg\"/>"
      ],
      "text/plain": [
       "<IPython.core.display.Image object>"
      ]
     },
     "execution_count": 1,
     "metadata": {},
     "output_type": "execute_result"
    }
   ],
   "source": [
    "from IPython.display import Image\n",
    "from IPython.core.display import HTML \n",
    "Image(url= \"https://upload.wikimedia.org/wikipedia/commons/thumb/f/fd/RMS_Titanic_3.jpg/979px-RMS_Titanic_3.jpg\")"
   ]
  },
  {
   "cell_type": "markdown",
   "id": "da44eee0",
   "metadata": {},
   "source": [
    "## Importing the necessary libraries"
   ]
  },
  {
   "cell_type": "code",
   "execution_count": 2,
   "id": "c09f20fa",
   "metadata": {},
   "outputs": [],
   "source": [
    "import pandas as pd\n",
    "import numpy as np\n",
    "from matplotlib import pyplot as plt\n",
    "import re\n",
    "from sklearn.preprocessing import StandardScaler\n",
    "from sklearn.svm import SVC\n",
    "from sklearn.model_selection import cross_val_score\n",
    "from sklearn.model_selection import KFold\n",
    "from sklearn.ensemble import RandomForestRegressor\n",
    "import seaborn as sns\n",
    "from sklearn.naive_bayes import GaussianNB\n",
    "from sklearn.model_selection import cross_val_score\n",
    "from sklearn.preprocessing import OneHotEncoder"
   ]
  },
  {
   "cell_type": "code",
   "execution_count": 3,
   "id": "7d507833",
   "metadata": {},
   "outputs": [],
   "source": [
    "sns.set_theme('notebook', style='dark')\n",
    "plt.style.use(\"dark_background\")"
   ]
  },
  {
   "cell_type": "markdown",
   "id": "f822dc40",
   "metadata": {},
   "source": [
    "# <ins>Reading the data</ins>"
   ]
  },
  {
   "cell_type": "code",
   "execution_count": 4,
   "id": "7fa77f15",
   "metadata": {},
   "outputs": [],
   "source": [
    "pd.set_option('mode.chained_assignment', None)\n",
    "train_data=pd.read_csv(\"https://raw.githubusercontent.com/ArisPagonopoulos/Titanic-Challenge-Kaggle/main/train.csv\",usecols=[\"Survived\",\"Pclass\",\"Name\",\"Sex\",\"Age\",\"SibSp\",\"Parch\",\"Fare\",\"Embarked\",\"Ticket\",\"Cabin\"])\n",
    "test_data=pd.read_csv(\"https://raw.githubusercontent.com/ArisPagonopoulos/Titanic-Challenge-Kaggle/main/test.csv\",sep=\",\",usecols=[\"PassengerId\",\"Pclass\",\"Name\",\"Sex\",\"Age\",\"SibSp\",\"Parch\",\"Fare\",\"Embarked\",\"Ticket\",\"Cabin\"])"
   ]
  },
  {
   "cell_type": "code",
   "execution_count": 5,
   "id": "5e455fba",
   "metadata": {
    "scrolled": true
   },
   "outputs": [
    {
     "data": {
      "text/plain": [
       "Survived      0\n",
       "Pclass        0\n",
       "Name          0\n",
       "Sex           0\n",
       "Age         177\n",
       "SibSp         0\n",
       "Parch         0\n",
       "Ticket        0\n",
       "Fare          0\n",
       "Cabin       687\n",
       "Embarked      2\n",
       "dtype: int64"
      ]
     },
     "execution_count": 5,
     "metadata": {},
     "output_type": "execute_result"
    }
   ],
   "source": [
    "np.sum(train_data.isna())"
   ]
  },
  {
   "cell_type": "code",
   "execution_count": 6,
   "id": "989b469c",
   "metadata": {},
   "outputs": [
    {
     "data": {
      "text/html": [
       "<div>\n",
       "<style scoped>\n",
       "    .dataframe tbody tr th:only-of-type {\n",
       "        vertical-align: middle;\n",
       "    }\n",
       "\n",
       "    .dataframe tbody tr th {\n",
       "        vertical-align: top;\n",
       "    }\n",
       "\n",
       "    .dataframe thead th {\n",
       "        text-align: right;\n",
       "    }\n",
       "</style>\n",
       "<table border=\"1\" class=\"dataframe\">\n",
       "  <thead>\n",
       "    <tr style=\"text-align: right;\">\n",
       "      <th></th>\n",
       "      <th>Survived</th>\n",
       "      <th>Pclass</th>\n",
       "      <th>Name</th>\n",
       "      <th>Sex</th>\n",
       "      <th>Age</th>\n",
       "      <th>SibSp</th>\n",
       "      <th>Parch</th>\n",
       "      <th>Ticket</th>\n",
       "      <th>Fare</th>\n",
       "      <th>Cabin</th>\n",
       "      <th>Embarked</th>\n",
       "    </tr>\n",
       "  </thead>\n",
       "  <tbody>\n",
       "    <tr>\n",
       "      <th>0</th>\n",
       "      <td>0</td>\n",
       "      <td>3</td>\n",
       "      <td>Braund, Mr. Owen Harris</td>\n",
       "      <td>male</td>\n",
       "      <td>22.0</td>\n",
       "      <td>1</td>\n",
       "      <td>0</td>\n",
       "      <td>A/5 21171</td>\n",
       "      <td>7.2500</td>\n",
       "      <td>NaN</td>\n",
       "      <td>S</td>\n",
       "    </tr>\n",
       "    <tr>\n",
       "      <th>1</th>\n",
       "      <td>1</td>\n",
       "      <td>1</td>\n",
       "      <td>Cumings, Mrs. John Bradley (Florence Briggs Th...</td>\n",
       "      <td>female</td>\n",
       "      <td>38.0</td>\n",
       "      <td>1</td>\n",
       "      <td>0</td>\n",
       "      <td>PC 17599</td>\n",
       "      <td>71.2833</td>\n",
       "      <td>C85</td>\n",
       "      <td>C</td>\n",
       "    </tr>\n",
       "    <tr>\n",
       "      <th>2</th>\n",
       "      <td>1</td>\n",
       "      <td>3</td>\n",
       "      <td>Heikkinen, Miss. Laina</td>\n",
       "      <td>female</td>\n",
       "      <td>26.0</td>\n",
       "      <td>0</td>\n",
       "      <td>0</td>\n",
       "      <td>STON/O2. 3101282</td>\n",
       "      <td>7.9250</td>\n",
       "      <td>NaN</td>\n",
       "      <td>S</td>\n",
       "    </tr>\n",
       "    <tr>\n",
       "      <th>3</th>\n",
       "      <td>1</td>\n",
       "      <td>1</td>\n",
       "      <td>Futrelle, Mrs. Jacques Heath (Lily May Peel)</td>\n",
       "      <td>female</td>\n",
       "      <td>35.0</td>\n",
       "      <td>1</td>\n",
       "      <td>0</td>\n",
       "      <td>113803</td>\n",
       "      <td>53.1000</td>\n",
       "      <td>C123</td>\n",
       "      <td>S</td>\n",
       "    </tr>\n",
       "    <tr>\n",
       "      <th>4</th>\n",
       "      <td>0</td>\n",
       "      <td>3</td>\n",
       "      <td>Allen, Mr. William Henry</td>\n",
       "      <td>male</td>\n",
       "      <td>35.0</td>\n",
       "      <td>0</td>\n",
       "      <td>0</td>\n",
       "      <td>373450</td>\n",
       "      <td>8.0500</td>\n",
       "      <td>NaN</td>\n",
       "      <td>S</td>\n",
       "    </tr>\n",
       "    <tr>\n",
       "      <th>...</th>\n",
       "      <td>...</td>\n",
       "      <td>...</td>\n",
       "      <td>...</td>\n",
       "      <td>...</td>\n",
       "      <td>...</td>\n",
       "      <td>...</td>\n",
       "      <td>...</td>\n",
       "      <td>...</td>\n",
       "      <td>...</td>\n",
       "      <td>...</td>\n",
       "      <td>...</td>\n",
       "    </tr>\n",
       "    <tr>\n",
       "      <th>886</th>\n",
       "      <td>0</td>\n",
       "      <td>2</td>\n",
       "      <td>Montvila, Rev. Juozas</td>\n",
       "      <td>male</td>\n",
       "      <td>27.0</td>\n",
       "      <td>0</td>\n",
       "      <td>0</td>\n",
       "      <td>211536</td>\n",
       "      <td>13.0000</td>\n",
       "      <td>NaN</td>\n",
       "      <td>S</td>\n",
       "    </tr>\n",
       "    <tr>\n",
       "      <th>887</th>\n",
       "      <td>1</td>\n",
       "      <td>1</td>\n",
       "      <td>Graham, Miss. Margaret Edith</td>\n",
       "      <td>female</td>\n",
       "      <td>19.0</td>\n",
       "      <td>0</td>\n",
       "      <td>0</td>\n",
       "      <td>112053</td>\n",
       "      <td>30.0000</td>\n",
       "      <td>B42</td>\n",
       "      <td>S</td>\n",
       "    </tr>\n",
       "    <tr>\n",
       "      <th>888</th>\n",
       "      <td>0</td>\n",
       "      <td>3</td>\n",
       "      <td>Johnston, Miss. Catherine Helen \"Carrie\"</td>\n",
       "      <td>female</td>\n",
       "      <td>NaN</td>\n",
       "      <td>1</td>\n",
       "      <td>2</td>\n",
       "      <td>W./C. 6607</td>\n",
       "      <td>23.4500</td>\n",
       "      <td>NaN</td>\n",
       "      <td>S</td>\n",
       "    </tr>\n",
       "    <tr>\n",
       "      <th>889</th>\n",
       "      <td>1</td>\n",
       "      <td>1</td>\n",
       "      <td>Behr, Mr. Karl Howell</td>\n",
       "      <td>male</td>\n",
       "      <td>26.0</td>\n",
       "      <td>0</td>\n",
       "      <td>0</td>\n",
       "      <td>111369</td>\n",
       "      <td>30.0000</td>\n",
       "      <td>C148</td>\n",
       "      <td>C</td>\n",
       "    </tr>\n",
       "    <tr>\n",
       "      <th>890</th>\n",
       "      <td>0</td>\n",
       "      <td>3</td>\n",
       "      <td>Dooley, Mr. Patrick</td>\n",
       "      <td>male</td>\n",
       "      <td>32.0</td>\n",
       "      <td>0</td>\n",
       "      <td>0</td>\n",
       "      <td>370376</td>\n",
       "      <td>7.7500</td>\n",
       "      <td>NaN</td>\n",
       "      <td>Q</td>\n",
       "    </tr>\n",
       "  </tbody>\n",
       "</table>\n",
       "<p>891 rows × 11 columns</p>\n",
       "</div>"
      ],
      "text/plain": [
       "     Survived  Pclass                                               Name  \\\n",
       "0           0       3                            Braund, Mr. Owen Harris   \n",
       "1           1       1  Cumings, Mrs. John Bradley (Florence Briggs Th...   \n",
       "2           1       3                             Heikkinen, Miss. Laina   \n",
       "3           1       1       Futrelle, Mrs. Jacques Heath (Lily May Peel)   \n",
       "4           0       3                           Allen, Mr. William Henry   \n",
       "..        ...     ...                                                ...   \n",
       "886         0       2                              Montvila, Rev. Juozas   \n",
       "887         1       1                       Graham, Miss. Margaret Edith   \n",
       "888         0       3           Johnston, Miss. Catherine Helen \"Carrie\"   \n",
       "889         1       1                              Behr, Mr. Karl Howell   \n",
       "890         0       3                                Dooley, Mr. Patrick   \n",
       "\n",
       "        Sex   Age  SibSp  Parch            Ticket     Fare Cabin Embarked  \n",
       "0      male  22.0      1      0         A/5 21171   7.2500   NaN        S  \n",
       "1    female  38.0      1      0          PC 17599  71.2833   C85        C  \n",
       "2    female  26.0      0      0  STON/O2. 3101282   7.9250   NaN        S  \n",
       "3    female  35.0      1      0            113803  53.1000  C123        S  \n",
       "4      male  35.0      0      0            373450   8.0500   NaN        S  \n",
       "..      ...   ...    ...    ...               ...      ...   ...      ...  \n",
       "886    male  27.0      0      0            211536  13.0000   NaN        S  \n",
       "887  female  19.0      0      0            112053  30.0000   B42        S  \n",
       "888  female   NaN      1      2        W./C. 6607  23.4500   NaN        S  \n",
       "889    male  26.0      0      0            111369  30.0000  C148        C  \n",
       "890    male  32.0      0      0            370376   7.7500   NaN        Q  \n",
       "\n",
       "[891 rows x 11 columns]"
      ]
     },
     "execution_count": 6,
     "metadata": {},
     "output_type": "execute_result"
    }
   ],
   "source": [
    "train_data"
   ]
  },
  {
   "cell_type": "markdown",
   "id": "4e7fd309",
   "metadata": {},
   "source": [
    "## We have many NA values in Age and Cabin columns, as we can see visually below"
   ]
  },
  {
   "cell_type": "code",
   "execution_count": 7,
   "id": "fad3e387",
   "metadata": {},
   "outputs": [
    {
     "data": {
      "text/plain": [
       "[]"
      ]
     },
     "execution_count": 7,
     "metadata": {},
     "output_type": "execute_result"
    },
    {
     "data": {
      "image/png": "[encoded data removed]",
      "text/plain": [
       "<Figure size 1080x504 with 2 Axes>"
      ]
     },
     "metadata": {},
     "output_type": "display_data"
    }
   ],
   "source": [
    "f,ax=plt.subplots(1,2,figsize=(15,7))\n",
    "sns.heatmap(train_data.isna().transpose(),cbar=False,ax=ax[0])\n",
    "ax[0].set_title(\"Train Data\")\n",
    "ax[0].set_xticks([])\n",
    "sns.heatmap(test_data.isna().transpose(),cbar=False,ax=ax[1])\n",
    "ax[1].set_title(\"Test Data\")\n",
    "ax[1].set_xticks([])"
   ]
  },
  {
   "cell_type": "markdown",
   "id": "a69c67a8",
   "metadata": {},
   "source": [
    "### We fill the fare missing in test data"
   ]
  },
  {
   "cell_type": "code",
   "execution_count": 8,
   "id": "43ccc673",
   "metadata": {},
   "outputs": [],
   "source": [
    "np.sum(test_data.isna())\n",
    "test_data[\"Fare\"]=test_data[\"Fare\"].fillna(test_data[\"Fare\"].mean())"
   ]
  },
  {
   "cell_type": "markdown",
   "id": "7694d0f6",
   "metadata": {},
   "source": [
    "### Let's drop the Cabin value since it has so many na values"
   ]
  },
  {
   "cell_type": "code",
   "execution_count": 9,
   "id": "d9cc1e5d",
   "metadata": {},
   "outputs": [],
   "source": [
    "train_data.drop(\"Cabin\",axis=1,inplace=True)\n",
    "test_data.drop(\"Cabin\",axis=1,inplace=True)"
   ]
  },
  {
   "cell_type": "markdown",
   "id": "b88045db",
   "metadata": {},
   "source": [
    "### We fill the missing embarked values based on mean fare per public class"
   ]
  },
  {
   "cell_type": "code",
   "execution_count": 10,
   "id": "89904578",
   "metadata": {},
   "outputs": [],
   "source": [
    "train_data.groupby([\"Pclass\",\"Embarked\"]).Fare.mean()\n",
    "train_data[train_data.Embarked.isna()]\n",
    "train_data.Embarked.fillna(\"C\",inplace=True)"
   ]
  },
  {
   "cell_type": "markdown",
   "id": "d725bcb8",
   "metadata": {},
   "source": [
    "## Before filling the missing Age values, we need to apply some feature extraction from the Name column"
   ]
  },
  {
   "cell_type": "markdown",
   "id": "9c4413b6",
   "metadata": {},
   "source": [
    "### Let's extract the title of each passenger"
   ]
  },
  {
   "cell_type": "code",
   "execution_count": 11,
   "id": "160c2146",
   "metadata": {
    "scrolled": true
   },
   "outputs": [
    {
     "data": {
      "text/plain": [
       "Mr.          517\n",
       "Miss.        182\n",
       "Mrs.         125\n",
       "Master.       40\n",
       "Dr.            7\n",
       "Rev.           6\n",
       "Mlle.          2\n",
       "Major.         2\n",
       "Col.           2\n",
       "Countess.      1\n",
       "Capt.          1\n",
       "Ms.            1\n",
       "Sir.           1\n",
       "Lady.          1\n",
       "Mme.           1\n",
       "Don.           1\n",
       "Jonkheer.      1\n",
       "Name: Name, dtype: int64"
      ]
     },
     "execution_count": 11,
     "metadata": {},
     "output_type": "execute_result"
    }
   ],
   "source": [
    "if np.sum(train_data.Name.isna())!=0:\n",
    "    print(\"They are some nan values\")\n",
    "    \n",
    "\n",
    "def titles(s):\n",
    "    res=re.search(\"(\\w+)\\.\",s)\n",
    "    if res:\n",
    "        return res.group(0)\n",
    "    return s\n",
    "\n",
    "train_data.Name = train_data.Name.apply(titles)\n",
    "test_data.Name=test_data.Name.apply(titles)\n",
    "train_data.Name.value_counts()"
   ]
  },
  {
   "cell_type": "markdown",
   "id": "30bf60a9",
   "metadata": {},
   "source": [
    "### ...and replace each title with a numeric value"
   ]
  },
  {
   "cell_type": "code",
   "execution_count": 12,
   "id": "0c4fe685",
   "metadata": {},
   "outputs": [],
   "source": [
    "train_data[\"Name\"]=train_data[\"Name\"].replace(\"Ms.\",\"Miss.\")\n",
    "train_data[\"Name\"]=train_data[\"Name\"].replace(\"Mme.\",\"Mr.\")\n",
    "train_data[\"Name\"]=train_data[\"Name\"].replace(\"Mlle.\",\"Miss.\")\n",
    "train_data[\"Name\"]=train_data[\"Name\"].replace([\"Don.\",\"Jonkheer.\",\"Countess.\",\"Sir.\",\"Lady.\",\"Don.\",\"Major.\"],\"noble\")\n",
    "train_data[\"Name\"]=train_data[\"Name\"].replace([\"Col.\",\"Rev.\",\"Dr.\",\"Capt.\"],\"rare\")\n",
    "test_data[\"Name\"]=test_data[\"Name\"].replace(\"Ms.\",\"Miss.\")\n",
    "test_data[\"Name\"]=test_data[\"Name\"].replace(\"Mme.\",\"Mr.\")\n",
    "test_data[\"Name\"]=test_data[\"Name\"].replace(\"Mlle.\",\"Miss.\")\n",
    "test_data[\"Name\"]=test_data[\"Name\"].replace([\"Don.\",\"Jonkheer.\",\"Countess.\",\"Sir.\",\"Lady.\",\"Don.\",\"Dona.\",\"Major.\"],\"noble\")\n",
    "test_data[\"Name\"]=test_data[\"Name\"].replace([\"Col.\",\"Rev.\",\"Dr.\",\"Capt.\"],\"rare\")\n",
    "l=list(train_data.Name.value_counts().index)\n",
    "l2=list(test_data.Name.value_counts().index)\n",
    "train_data.Name = train_data.Name.apply(lambda x:l.index(x))\n",
    "test_data.Name=test_data.Name.apply(lambda x:l2.index(x))"
   ]
  },
  {
   "cell_type": "markdown",
   "id": "80e37121",
   "metadata": {},
   "source": [
    "### Now we can replace each missing Age value, with the mean based on it's Name and Sex value"
   ]
  },
  {
   "cell_type": "code",
   "execution_count": 13,
   "id": "eae2ca8d",
   "metadata": {},
   "outputs": [],
   "source": [
    "df=train_data.iloc[:,:-1].append(test_data.iloc[:,:-1])\n",
    "df[\"Age\"].fillna(df.groupby([\"Sex\",\"Name\"])[\"Age\"].transform(\"mean\"),inplace=True)\n",
    "train_data[\"Age\"]=df[\"Age\"][:891]\n",
    "test_data[\"Age\"]=df[\"Age\"][891:]"
   ]
  },
  {
   "cell_type": "code",
   "execution_count": 14,
   "id": "fcbcf888",
   "metadata": {
    "scrolled": false
   },
   "outputs": [
    {
     "name": "stdout",
     "output_type": "stream",
     "text": [
      "Number of missing values in train_data 0\n",
      "Numbero of missing values in test_data 0\n"
     ]
    }
   ],
   "source": [
    "print(f\"Number of missing values in train_data {np.sum(np.sum(train_data.isna()))}\")\n",
    "print(f\"Numbero of missing values in test_data {np.sum(np.sum(test_data.isna()))}\")"
   ]
  },
  {
   "cell_type": "markdown",
   "id": "dff4329a",
   "metadata": {},
   "source": [
    "### Replacing the embarked with dummy values"
   ]
  },
  {
   "cell_type": "code",
   "execution_count": 15,
   "id": "23706b8c",
   "metadata": {},
   "outputs": [],
   "source": [
    "fg=lambda x: 0 if x==\"S\" else (1 if x==\"C\" else 2)\n",
    "train_data.loc[:,\"Embarked\"]=train_data.loc[:,\"Embarked\"].apply(fg)\n",
    "test_data.loc[:,\"Embarked\"]=test_data.loc[:,\"Embarked\"].apply(fg)"
   ]
  },
  {
   "cell_type": "markdown",
   "id": "0063db55",
   "metadata": {},
   "source": [
    "### ... same for Sex and Ticket column"
   ]
  },
  {
   "cell_type": "code",
   "execution_count": 16,
   "id": "a8bc2feb",
   "metadata": {},
   "outputs": [],
   "source": [
    "train_data.Sex=train_data.Sex.apply(lambda x:1 if x==\"male\" else 0)\n",
    "test_data.Sex=test_data.Sex.apply(lambda x:1 if x==\"male\" else 0)"
   ]
  },
  {
   "cell_type": "code",
   "execution_count": 17,
   "id": "3fbdca11",
   "metadata": {},
   "outputs": [],
   "source": [
    "train_data[\"Ticket\"]=train_data[\"Ticket\"].str[:3]\n",
    "test_data[\"Ticket\"]=test_data[\"Ticket\"].str[:3]\n",
    "tg=lambda x:1 if x.isnumeric() else 0\n",
    "train_data[\"Ticket\"]=train_data[\"Ticket\"].apply(tg)\n",
    "test_data[\"Ticket\"]=test_data[\"Ticket\"].apply(tg)"
   ]
  },
  {
   "cell_type": "markdown",
   "id": "b949e04c",
   "metadata": {},
   "source": [
    "### We create a new column: family size"
   ]
  },
  {
   "cell_type": "code",
   "execution_count": 18,
   "id": "9dbd9782",
   "metadata": {},
   "outputs": [],
   "source": [
    "p=train_data[\"Parch\"]+train_data[\"SibSp\"]+1\n",
    "train_data[\"SizeofFamily\"]=p\n",
    "q=test_data[\"Parch\"]+test_data[\"SibSp\"]+1\n",
    "test_data[\"SizeofFamily\"]=q"
   ]
  },
  {
   "cell_type": "markdown",
   "id": "6d3eb46c",
   "metadata": {},
   "source": [
    "### We create a new column IsAlone (with 1 if the passenger was alone in the trip and 0 if not)"
   ]
  },
  {
   "cell_type": "code",
   "execution_count": 19,
   "id": "353c7e71",
   "metadata": {},
   "outputs": [],
   "source": [
    "alone=np.where(train_data.SibSp+train_data.Parch==0,1,0)\n",
    "train_data[\"Alone\"]=alone\n",
    "alone2=np.where(test_data.SibSp+test_data.Parch==0,1,0)\n",
    "test_data[\"Alone\"]=alone2"
   ]
  },
  {
   "cell_type": "markdown",
   "id": "e6bd973c",
   "metadata": {},
   "source": [
    "### We create a new column Factor by multiplying the Pclass with the Age (we normalize the Age first)"
   ]
  },
  {
   "cell_type": "code",
   "execution_count": 20,
   "id": "7eee6642",
   "metadata": {},
   "outputs": [],
   "source": [
    "train_data[\"Factor\"]=((train_data[\"Pclass\"]-train_data[\"Pclass\"].mean())/(train_data[\"Pclass\"].std()))*((train_data[\"Age\"]-train_data[\"Age\"].mean())/(train_data[\"Age\"].std()))\n",
    "test_data[\"Factor\"]=((test_data[\"Pclass\"]-test_data[\"Pclass\"].mean())/(test_data[\"Pclass\"].std()))*((test_data[\"Age\"]-test_data[\"Age\"].mean())/(test_data[\"Age\"].std()))"
   ]
  },
  {
   "cell_type": "markdown",
   "id": "864b04a5",
   "metadata": {},
   "source": [
    "### We split Age column in categories"
   ]
  },
  {
   "cell_type": "code",
   "execution_count": 21,
   "id": "e291aa23",
   "metadata": {},
   "outputs": [],
   "source": [
    "r=pd.qcut(train_data.Age[train_data.Age.notna()],6).value_counts().index.categories\n",
    "g=lambda y:list(map(lambda x:y in x,list(r))).index(True)\n",
    "gg=lambda y:list(map(lambda x:y in x,list(rr))).index(True)\n",
    "rr=pd.qcut(test_data.Age[test_data.Age.notna()],6).value_counts().index.categories\n",
    "train_data[\"Age_Cat\"]=train_data.Age[train_data.Age.notna()].apply(g)\n",
    "test_data[\"Age_Cat\"]=test_data.Age[test_data.Age.notna()].apply(gg)"
   ]
  },
  {
   "cell_type": "markdown",
   "id": "af417ba5",
   "metadata": {},
   "source": [
    "### Same with the Fare"
   ]
  },
  {
   "cell_type": "code",
   "execution_count": 22,
   "id": "13c875e0",
   "metadata": {},
   "outputs": [],
   "source": [
    "qq=pd.qcut(train_data[\"Fare\"],4).value_counts().index.categories\n",
    "ff=lambda y:list(map(lambda x:round(y,3) in x,list(qq))).index(True)\n",
    "train_data[\"Fare_Cat\"]=train_data[\"Fare\"].apply(ff).astype(int)\n",
    "qqq=pd.qcut(test_data[\"Fare\"],4).value_counts().index.categories\n",
    "fff=lambda y:list(map(lambda x:round(y,3) in x,list(qqq))).index(True)\n",
    "test_data[\"Fare_Cat\"]=test_data[\"Fare\"].apply(fff).astype(int)"
   ]
  },
  {
   "cell_type": "markdown",
   "id": "9112f29e",
   "metadata": {},
   "source": [
    "### Create a column  IsWomenOrChild(boolean)"
   ]
  },
  {
   "cell_type": "code",
   "execution_count": 23,
   "id": "d9c0ffe6",
   "metadata": {},
   "outputs": [],
   "source": [
    "train_data[\"IsWomanOrChild\"]=pd.Series(np.zeros(train_data.shape[0],dtype=int))\n",
    "train_data.IsWomanOrChild[(train_data.Sex==0) | (train_data.Age<=15)]=1\n",
    "test_data[\"IsWomanOrChild\"]=pd.Series(np.zeros(test_data.shape[0]))\n",
    "test_data.IsWomanOrChild[(test_data.Sex==0) | (test_data.Age<=15)]=1"
   ]
  },
  {
   "cell_type": "code",
   "execution_count": 24,
   "id": "912037c0",
   "metadata": {},
   "outputs": [],
   "source": [
    "vis_df=train_data.copy()"
   ]
  },
  {
   "cell_type": "markdown",
   "id": "9e3a7f12",
   "metadata": {},
   "source": [
    "### Apply OneHotEncoding to Embarked"
   ]
  },
  {
   "cell_type": "code",
   "execution_count": 25,
   "id": "e9d7b4db",
   "metadata": {},
   "outputs": [],
   "source": [
    "def onehot(df,c,labels):\n",
    "    encoder=OneHotEncoder(handle_unknown=\"ignore\")\n",
    "    encoder_df=pd.DataFrame(encoder.fit_transform(df[[c]]).toarray())\n",
    "    columns=list(df.columns)\n",
    "    df=df.join(encoder_df)\n",
    "    df.columns=columns+labels\n",
    "    df.iloc[:,-len(labels):]=df.iloc[:,-len(labels):].astype(int)\n",
    "    df.drop(c,axis=1,inplace=True)\n",
    "    return df\n",
    "train_data=onehot(train_data,\"Embarked\",[\"Embarked{}\".format(i) for i in [\"S\",\"C\",\"Q\"]])\n",
    "test_data=onehot(test_data,\"Embarked\",[\"Embarked{}\".format(i) for i in [\"S\",\"C\",\"Q\"]])"
   ]
  },
  {
   "cell_type": "markdown",
   "id": "8fa978be",
   "metadata": {},
   "source": [
    "## Now let's see our data"
   ]
  },
  {
   "cell_type": "code",
   "execution_count": 26,
   "id": "4858477c",
   "metadata": {
    "scrolled": true
   },
   "outputs": [
    {
     "data": {
      "text/html": [
       "<div>\n",
       "<style scoped>\n",
       "    .dataframe tbody tr th:only-of-type {\n",
       "        vertical-align: middle;\n",
       "    }\n",
       "\n",
       "    .dataframe tbody tr th {\n",
       "        vertical-align: top;\n",
       "    }\n",
       "\n",
       "    .dataframe thead th {\n",
       "        text-align: right;\n",
       "    }\n",
       "</style>\n",
       "<table border=\"1\" class=\"dataframe\">\n",
       "  <thead>\n",
       "    <tr style=\"text-align: right;\">\n",
       "      <th></th>\n",
       "      <th>Survived</th>\n",
       "      <th>Pclass</th>\n",
       "      <th>Name</th>\n",
       "      <th>Sex</th>\n",
       "      <th>Age</th>\n",
       "      <th>SibSp</th>\n",
       "      <th>Parch</th>\n",
       "      <th>Ticket</th>\n",
       "      <th>Fare</th>\n",
       "      <th>SizeofFamily</th>\n",
       "      <th>Alone</th>\n",
       "      <th>Factor</th>\n",
       "      <th>Age_Cat</th>\n",
       "      <th>Fare_Cat</th>\n",
       "      <th>IsWomanOrChild</th>\n",
       "      <th>EmbarkedS</th>\n",
       "      <th>EmbarkedC</th>\n",
       "      <th>EmbarkedQ</th>\n",
       "    </tr>\n",
       "  </thead>\n",
       "  <tbody>\n",
       "    <tr>\n",
       "      <th>0</th>\n",
       "      <td>0</td>\n",
       "      <td>3</td>\n",
       "      <td>0</td>\n",
       "      <td>1</td>\n",
       "      <td>22.000000</td>\n",
       "      <td>1</td>\n",
       "      <td>0</td>\n",
       "      <td>0</td>\n",
       "      <td>7.2500</td>\n",
       "      <td>2</td>\n",
       "      <td>0</td>\n",
       "      <td>-0.483833</td>\n",
       "      <td>1</td>\n",
       "      <td>0</td>\n",
       "      <td>0</td>\n",
       "      <td>1</td>\n",
       "      <td>0</td>\n",
       "      <td>0</td>\n",
       "    </tr>\n",
       "    <tr>\n",
       "      <th>1</th>\n",
       "      <td>1</td>\n",
       "      <td>1</td>\n",
       "      <td>2</td>\n",
       "      <td>0</td>\n",
       "      <td>38.000000</td>\n",
       "      <td>1</td>\n",
       "      <td>0</td>\n",
       "      <td>0</td>\n",
       "      <td>71.2833</td>\n",
       "      <td>2</td>\n",
       "      <td>0</td>\n",
       "      <td>-0.969907</td>\n",
       "      <td>4</td>\n",
       "      <td>3</td>\n",
       "      <td>1</td>\n",
       "      <td>0</td>\n",
       "      <td>1</td>\n",
       "      <td>0</td>\n",
       "    </tr>\n",
       "    <tr>\n",
       "      <th>2</th>\n",
       "      <td>1</td>\n",
       "      <td>3</td>\n",
       "      <td>1</td>\n",
       "      <td>0</td>\n",
       "      <td>26.000000</td>\n",
       "      <td>0</td>\n",
       "      <td>0</td>\n",
       "      <td>0</td>\n",
       "      <td>7.9250</td>\n",
       "      <td>1</td>\n",
       "      <td>1</td>\n",
       "      <td>-0.234774</td>\n",
       "      <td>2</td>\n",
       "      <td>1</td>\n",
       "      <td>1</td>\n",
       "      <td>1</td>\n",
       "      <td>0</td>\n",
       "      <td>0</td>\n",
       "    </tr>\n",
       "    <tr>\n",
       "      <th>3</th>\n",
       "      <td>1</td>\n",
       "      <td>1</td>\n",
       "      <td>2</td>\n",
       "      <td>0</td>\n",
       "      <td>35.000000</td>\n",
       "      <td>1</td>\n",
       "      <td>0</td>\n",
       "      <td>1</td>\n",
       "      <td>53.1000</td>\n",
       "      <td>2</td>\n",
       "      <td>0</td>\n",
       "      <td>-0.616332</td>\n",
       "      <td>4</td>\n",
       "      <td>3</td>\n",
       "      <td>1</td>\n",
       "      <td>1</td>\n",
       "      <td>0</td>\n",
       "      <td>0</td>\n",
       "    </tr>\n",
       "    <tr>\n",
       "      <th>4</th>\n",
       "      <td>0</td>\n",
       "      <td>3</td>\n",
       "      <td>0</td>\n",
       "      <td>1</td>\n",
       "      <td>35.000000</td>\n",
       "      <td>0</td>\n",
       "      <td>0</td>\n",
       "      <td>1</td>\n",
       "      <td>8.0500</td>\n",
       "      <td>1</td>\n",
       "      <td>1</td>\n",
       "      <td>0.325609</td>\n",
       "      <td>4</td>\n",
       "      <td>1</td>\n",
       "      <td>0</td>\n",
       "      <td>1</td>\n",
       "      <td>0</td>\n",
       "      <td>0</td>\n",
       "    </tr>\n",
       "    <tr>\n",
       "      <th>...</th>\n",
       "      <td>...</td>\n",
       "      <td>...</td>\n",
       "      <td>...</td>\n",
       "      <td>...</td>\n",
       "      <td>...</td>\n",
       "      <td>...</td>\n",
       "      <td>...</td>\n",
       "      <td>...</td>\n",
       "      <td>...</td>\n",
       "      <td>...</td>\n",
       "      <td>...</td>\n",
       "      <td>...</td>\n",
       "      <td>...</td>\n",
       "      <td>...</td>\n",
       "      <td>...</td>\n",
       "      <td>...</td>\n",
       "      <td>...</td>\n",
       "      <td>...</td>\n",
       "    </tr>\n",
       "    <tr>\n",
       "      <th>886</th>\n",
       "      <td>0</td>\n",
       "      <td>2</td>\n",
       "      <td>4</td>\n",
       "      <td>1</td>\n",
       "      <td>27.000000</td>\n",
       "      <td>0</td>\n",
       "      <td>0</td>\n",
       "      <td>1</td>\n",
       "      <td>13.0000</td>\n",
       "      <td>1</td>\n",
       "      <td>1</td>\n",
       "      <td>0.077013</td>\n",
       "      <td>2</td>\n",
       "      <td>1</td>\n",
       "      <td>0</td>\n",
       "      <td>1</td>\n",
       "      <td>0</td>\n",
       "      <td>0</td>\n",
       "    </tr>\n",
       "    <tr>\n",
       "      <th>887</th>\n",
       "      <td>1</td>\n",
       "      <td>1</td>\n",
       "      <td>1</td>\n",
       "      <td>0</td>\n",
       "      <td>19.000000</td>\n",
       "      <td>0</td>\n",
       "      <td>0</td>\n",
       "      <td>1</td>\n",
       "      <td>30.0000</td>\n",
       "      <td>1</td>\n",
       "      <td>1</td>\n",
       "      <td>1.269401</td>\n",
       "      <td>0</td>\n",
       "      <td>2</td>\n",
       "      <td>1</td>\n",
       "      <td>1</td>\n",
       "      <td>0</td>\n",
       "      <td>0</td>\n",
       "    </tr>\n",
       "    <tr>\n",
       "      <th>888</th>\n",
       "      <td>0</td>\n",
       "      <td>3</td>\n",
       "      <td>1</td>\n",
       "      <td>0</td>\n",
       "      <td>21.824366</td>\n",
       "      <td>1</td>\n",
       "      <td>2</td>\n",
       "      <td>0</td>\n",
       "      <td>23.4500</td>\n",
       "      <td>4</td>\n",
       "      <td>0</td>\n",
       "      <td>-0.494769</td>\n",
       "      <td>1</td>\n",
       "      <td>2</td>\n",
       "      <td>1</td>\n",
       "      <td>1</td>\n",
       "      <td>0</td>\n",
       "      <td>0</td>\n",
       "    </tr>\n",
       "    <tr>\n",
       "      <th>889</th>\n",
       "      <td>1</td>\n",
       "      <td>1</td>\n",
       "      <td>0</td>\n",
       "      <td>1</td>\n",
       "      <td>26.000000</td>\n",
       "      <td>0</td>\n",
       "      <td>0</td>\n",
       "      <td>1</td>\n",
       "      <td>30.0000</td>\n",
       "      <td>1</td>\n",
       "      <td>1</td>\n",
       "      <td>0.444393</td>\n",
       "      <td>2</td>\n",
       "      <td>2</td>\n",
       "      <td>0</td>\n",
       "      <td>0</td>\n",
       "      <td>1</td>\n",
       "      <td>0</td>\n",
       "    </tr>\n",
       "    <tr>\n",
       "      <th>890</th>\n",
       "      <td>0</td>\n",
       "      <td>3</td>\n",
       "      <td>0</td>\n",
       "      <td>1</td>\n",
       "      <td>32.000000</td>\n",
       "      <td>0</td>\n",
       "      <td>0</td>\n",
       "      <td>1</td>\n",
       "      <td>7.7500</td>\n",
       "      <td>1</td>\n",
       "      <td>1</td>\n",
       "      <td>0.138815</td>\n",
       "      <td>3</td>\n",
       "      <td>0</td>\n",
       "      <td>0</td>\n",
       "      <td>0</td>\n",
       "      <td>0</td>\n",
       "      <td>1</td>\n",
       "    </tr>\n",
       "  </tbody>\n",
       "</table>\n",
       "<p>891 rows × 18 columns</p>\n",
       "</div>"
      ],
      "text/plain": [
       "     Survived  Pclass  Name  Sex        Age  SibSp  Parch  Ticket     Fare  \\\n",
       "0           0       3     0    1  22.000000      1      0       0   7.2500   \n",
       "1           1       1     2    0  38.000000      1      0       0  71.2833   \n",
       "2           1       3     1    0  26.000000      0      0       0   7.9250   \n",
       "3           1       1     2    0  35.000000      1      0       1  53.1000   \n",
       "4           0       3     0    1  35.000000      0      0       1   8.0500   \n",
       "..        ...     ...   ...  ...        ...    ...    ...     ...      ...   \n",
       "886         0       2     4    1  27.000000      0      0       1  13.0000   \n",
       "887         1       1     1    0  19.000000      0      0       1  30.0000   \n",
       "888         0       3     1    0  21.824366      1      2       0  23.4500   \n",
       "889         1       1     0    1  26.000000      0      0       1  30.0000   \n",
       "890         0       3     0    1  32.000000      0      0       1   7.7500   \n",
       "\n",
       "     SizeofFamily  Alone    Factor  Age_Cat  Fare_Cat  IsWomanOrChild  \\\n",
       "0               2      0 -0.483833        1         0               0   \n",
       "1               2      0 -0.969907        4         3               1   \n",
       "2               1      1 -0.234774        2         1               1   \n",
       "3               2      0 -0.616332        4         3               1   \n",
       "4               1      1  0.325609        4         1               0   \n",
       "..            ...    ...       ...      ...       ...             ...   \n",
       "886             1      1  0.077013        2         1               0   \n",
       "887             1      1  1.269401        0         2               1   \n",
       "888             4      0 -0.494769        1         2               1   \n",
       "889             1      1  0.444393        2         2               0   \n",
       "890             1      1  0.138815        3         0               0   \n",
       "\n",
       "     EmbarkedS  EmbarkedC  EmbarkedQ  \n",
       "0            1          0          0  \n",
       "1            0          1          0  \n",
       "2            1          0          0  \n",
       "3            1          0          0  \n",
       "4            1          0          0  \n",
       "..         ...        ...        ...  \n",
       "886          1          0          0  \n",
       "887          1          0          0  \n",
       "888          1          0          0  \n",
       "889          0          1          0  \n",
       "890          0          0          1  \n",
       "\n",
       "[891 rows x 18 columns]"
      ]
     },
     "execution_count": 26,
     "metadata": {},
     "output_type": "execute_result"
    }
   ],
   "source": [
    "train_data"
   ]
  },
  {
   "cell_type": "markdown",
   "id": "8b5cbe4e",
   "metadata": {},
   "source": [
    "# <ins>Exploratory Data Analysis</ins>"
   ]
  },
  {
   "cell_type": "markdown",
   "id": "63388ad1",
   "metadata": {},
   "source": [
    "## What's the proportion of people who survived?"
   ]
  },
  {
   "cell_type": "code",
   "execution_count": 27,
   "id": "1f7a34f9",
   "metadata": {},
   "outputs": [
    {
     "data": {
      "text/plain": [
       "Text(0.5, 1.0, 'Survival')"
      ]
     },
     "execution_count": 27,
     "metadata": {},
     "output_type": "execute_result"
    },
    {
     "data": {
      "image/png": "[encoded data removed]",
      "text/plain": [
       "<Figure size 576x1080 with 1 Axes>"
      ]
     },
     "metadata": {},
     "output_type": "display_data"
    }
   ],
   "source": [
    "plt.figure(figsize=(8,15))\n",
    "plt.pie(train_data.Survived.value_counts(),labels=[\"Died\",\"Survived\"],colors=[\"lightgrey\",\"lime\"],shadow=True,autopct='%.0f%%',startangle=120)\n",
    "plt.title(\"Survival\")"
   ]
  },
  {
   "cell_type": "markdown",
   "id": "4a349443",
   "metadata": {},
   "source": [
    "## Passengers in higher class had a better chance of surviving"
   ]
  },
  {
   "cell_type": "code",
   "execution_count": 28,
   "id": "7e9d5238",
   "metadata": {},
   "outputs": [
    {
     "data": {
      "text/html": [
       "<div>\n",
       "<style scoped>\n",
       "    .dataframe tbody tr th:only-of-type {\n",
       "        vertical-align: middle;\n",
       "    }\n",
       "\n",
       "    .dataframe tbody tr th {\n",
       "        vertical-align: top;\n",
       "    }\n",
       "\n",
       "    .dataframe thead th {\n",
       "        text-align: right;\n",
       "    }\n",
       "</style>\n",
       "<table border=\"1\" class=\"dataframe\">\n",
       "  <thead>\n",
       "    <tr style=\"text-align: right;\">\n",
       "      <th></th>\n",
       "      <th>Pclass</th>\n",
       "      <th>Survived</th>\n",
       "    </tr>\n",
       "  </thead>\n",
       "  <tbody>\n",
       "    <tr>\n",
       "      <th>0</th>\n",
       "      <td>1</td>\n",
       "      <td>0.629630</td>\n",
       "    </tr>\n",
       "    <tr>\n",
       "      <th>1</th>\n",
       "      <td>2</td>\n",
       "      <td>0.472826</td>\n",
       "    </tr>\n",
       "    <tr>\n",
       "      <th>2</th>\n",
       "      <td>3</td>\n",
       "      <td>0.242363</td>\n",
       "    </tr>\n",
       "  </tbody>\n",
       "</table>\n",
       "</div>"
      ],
      "text/plain": [
       "   Pclass  Survived\n",
       "0       1  0.629630\n",
       "1       2  0.472826\n",
       "2       3  0.242363"
      ]
     },
     "execution_count": 28,
     "metadata": {},
     "output_type": "execute_result"
    }
   ],
   "source": [
    "train_data.groupby(\"Pclass\",as_index=False)[\"Survived\"].mean()"
   ]
  },
  {
   "cell_type": "code",
   "execution_count": 29,
   "id": "144da786",
   "metadata": {},
   "outputs": [
    {
     "data": {
      "text/plain": [
       "<AxesSubplot:xlabel='Pclass', ylabel='Survived'>"
      ]
     },
     "execution_count": 29,
     "metadata": {},
     "output_type": "execute_result"
    },
    {
     "data": {
      "image/png": "[encoded data removed]",
      "text/plain": [
       "<Figure size 720x504 with 1 Axes>"
      ]
     },
     "metadata": {},
     "output_type": "display_data"
    }
   ],
   "source": [
    "plt.figure(figsize=(10,7))\n",
    "sns.barplot(x=\"Pclass\",y=\"Survived\",data=train_data.groupby(\"Pclass\",as_index=False)[\"Survived\"].mean(),palette=\"pastel\")"
   ]
  },
  {
   "cell_type": "markdown",
   "id": "b2833b9d",
   "metadata": {},
   "source": [
    "### Embarkation points have a correlation with survival"
   ]
  },
  {
   "cell_type": "code",
   "execution_count": 30,
   "id": "b081a8dd",
   "metadata": {},
   "outputs": [
    {
     "data": {
      "text/html": [
       "<div>\n",
       "<style scoped>\n",
       "    .dataframe tbody tr th:only-of-type {\n",
       "        vertical-align: middle;\n",
       "    }\n",
       "\n",
       "    .dataframe tbody tr th {\n",
       "        vertical-align: top;\n",
       "    }\n",
       "\n",
       "    .dataframe thead th {\n",
       "        text-align: right;\n",
       "    }\n",
       "</style>\n",
       "<table border=\"1\" class=\"dataframe\">\n",
       "  <thead>\n",
       "    <tr style=\"text-align: right;\">\n",
       "      <th></th>\n",
       "      <th>Embarked</th>\n",
       "      <th>Survived</th>\n",
       "    </tr>\n",
       "  </thead>\n",
       "  <tbody>\n",
       "    <tr>\n",
       "      <th>0</th>\n",
       "      <td>0</td>\n",
       "      <td>0.336957</td>\n",
       "    </tr>\n",
       "    <tr>\n",
       "      <th>1</th>\n",
       "      <td>1</td>\n",
       "      <td>0.558824</td>\n",
       "    </tr>\n",
       "    <tr>\n",
       "      <th>2</th>\n",
       "      <td>2</td>\n",
       "      <td>0.389610</td>\n",
       "    </tr>\n",
       "  </tbody>\n",
       "</table>\n",
       "</div>"
      ],
      "text/plain": [
       "   Embarked  Survived\n",
       "0         0  0.336957\n",
       "1         1  0.558824\n",
       "2         2  0.389610"
      ]
     },
     "execution_count": 30,
     "metadata": {},
     "output_type": "execute_result"
    }
   ],
   "source": [
    "vis_df.groupby(\"Embarked\",as_index=False)[\"Survived\"].mean()"
   ]
  },
  {
   "cell_type": "code",
   "execution_count": 31,
   "id": "b7ca1659",
   "metadata": {},
   "outputs": [],
   "source": [
    "surv_emb=vis_df.groupby(\"Embarked\",as_index=False)[\"Survived\"].mean()"
   ]
  },
  {
   "cell_type": "code",
   "execution_count": 32,
   "id": "2eb42cad",
   "metadata": {},
   "outputs": [],
   "source": [
    "surv_emb[\"Died\"]=1-surv_emb[\"Survived\"]\n",
    "pv=pd.pivot_table(surv_emb,index=\"Embarked\",values=[\"Survived\",\"Died\"])"
   ]
  },
  {
   "cell_type": "code",
   "execution_count": 33,
   "id": "39f51d9c",
   "metadata": {
    "scrolled": false
   },
   "outputs": [
    {
     "data": {
      "image/png": "[encoded data removed]",
      "text/plain": [
       "<Figure size 720x360 with 1 Axes>"
      ]
     },
     "metadata": {},
     "output_type": "display_data"
    }
   ],
   "source": [
    "pv.plot(kind=\"barh\",stacked=True,figsize=(10,5),color=[\"C3\",\"C2\"])\n",
    "loc,labels=plt.yticks()\n",
    "_=plt.yticks(loc,labels=[\"C\",\"Q\",\"S\"])"
   ]
  },
  {
   "cell_type": "markdown",
   "id": "c5ef5bd3",
   "metadata": {},
   "source": [
    "## It appears that ticket has no correlation with survival"
   ]
  },
  {
   "cell_type": "code",
   "execution_count": 34,
   "id": "2edd6dd4",
   "metadata": {},
   "outputs": [
    {
     "data": {
      "text/plain": [
       "Ticket\n",
       "0    0.382609\n",
       "1    0.384266\n",
       "Name: Survived, dtype: float64"
      ]
     },
     "execution_count": 34,
     "metadata": {},
     "output_type": "execute_result"
    }
   ],
   "source": [
    "train_data.groupby(\"Ticket\")[\"Survived\"].mean()"
   ]
  },
  {
   "cell_type": "markdown",
   "id": "a819f17d",
   "metadata": {},
   "source": [
    "## Most women survived in titanic disaster"
   ]
  },
  {
   "cell_type": "code",
   "execution_count": 35,
   "id": "f2ee0c4b",
   "metadata": {},
   "outputs": [
    {
     "data": {
      "text/plain": [
       "Sex\n",
       "0    0.742038\n",
       "1    0.188908\n",
       "Name: Survived, dtype: float64"
      ]
     },
     "execution_count": 35,
     "metadata": {},
     "output_type": "execute_result"
    }
   ],
   "source": [
    "train_data.groupby(\"Sex\")[\"Survived\"].mean()"
   ]
  },
  {
   "cell_type": "code",
   "execution_count": 36,
   "id": "d0885e46",
   "metadata": {},
   "outputs": [
    {
     "data": {
      "text/plain": [
       "<seaborn.axisgrid.FacetGrid at 0x26a171c7888>"
      ]
     },
     "execution_count": 36,
     "metadata": {},
     "output_type": "execute_result"
    },
    {
     "data": {
      "text/plain": [
       "<Figure size 1080x648 with 0 Axes>"
      ]
     },
     "metadata": {},
     "output_type": "display_data"
    },
    {
     "data": {
      "image/png": "[encoded data removed]",
      "text/plain": [
       "<Figure size 440.8x216 with 2 Axes>"
      ]
     },
     "metadata": {},
     "output_type": "display_data"
    }
   ],
   "source": [
    "plt.figure(figsize=(15,9))\n",
    "g = sns.FacetGrid(train_data, col='Survived')\n",
    "g.map(plt.hist, 'Age', bins=20,color=\"purple\")\n",
    "g.add_legend()"
   ]
  },
  {
   "cell_type": "markdown",
   "id": "0e4908e9",
   "metadata": {},
   "source": [
    "## Men were more likely to survive if they were younger, the oposite is true for the women\n",
    "## (female=0,male=1)"
   ]
  },
  {
   "cell_type": "code",
   "execution_count": 37,
   "id": "fbda7615",
   "metadata": {},
   "outputs": [
    {
     "data": {
      "text/plain": [
       "Sex  Survived\n",
       "0    0           24.932389\n",
       "     1           28.674050\n",
       "1    0           31.679137\n",
       "     1           27.515279\n",
       "Name: Age, dtype: float64"
      ]
     },
     "execution_count": 37,
     "metadata": {},
     "output_type": "execute_result"
    }
   ],
   "source": [
    "train_data.groupby([\"Sex\",\"Survived\"])[\"Age\"].mean()"
   ]
  },
  {
   "cell_type": "code",
   "execution_count": 38,
   "id": "68daf99b",
   "metadata": {},
   "outputs": [
    {
     "data": {
      "image/png": "[encoded data removed]",
      "text/plain": [
       "<Figure size 648x360 with 1 Axes>"
      ]
     },
     "metadata": {},
     "output_type": "display_data"
    }
   ],
   "source": [
    "plt.figure(figsize=(9,5))\n",
    "sns.boxplot(x=\"Sex\",y=\"Age\",hue=\"Survived\",data=train_data,palette=[\"gray\",\"lightgreen\"])\n",
    "plt.title(\"Boxplot\")\n",
    "loc,labels=plt.xticks()\n",
    "_=plt.xticks(loc,[\"male\",\"female\"])"
   ]
  },
  {
   "cell_type": "code",
   "execution_count": 39,
   "id": "458e1064",
   "metadata": {},
   "outputs": [
    {
     "name": "stderr",
     "output_type": "stream",
     "text": [
      "C:\\Users\\aris\\Anaconda3\\lib\\site-packages\\seaborn\\categorical.py:1296: UserWarning: 13.1% of the points cannot be placed; you may want to decrease the size of the markers or use stripplot.\n",
      "  warnings.warn(msg, UserWarning)\n"
     ]
    },
    {
     "data": {
      "image/png": "[encoded data removed]",
      "text/plain": [
       "<Figure size 864x720 with 1 Axes>"
      ]
     },
     "metadata": {},
     "output_type": "display_data"
    }
   ],
   "source": [
    "f=plt.figure(figsize=(12,10))\n",
    "ax=f.gca()\n",
    "sns.swarmplot(x=\"Survived\",y=\"Age\",data=train_data,palette=\"Paired_r\",ax=ax,s=6)\n",
    "loc,labels=plt.xticks()\n",
    "plt.xlabel(\"\")\n",
    "new_labels=[\"Died\",\"Survived\"]\n",
    "_=plt.xticks(loc,new_labels)"
   ]
  },
  {
   "cell_type": "markdown",
   "id": "7a426b5c",
   "metadata": {},
   "source": [
    "## Women, children and nobles were more likely to survive"
   ]
  },
  {
   "cell_type": "code",
   "execution_count": 40,
   "id": "321f6629",
   "metadata": {},
   "outputs": [
    {
     "data": {
      "image/png": "[encoded data removed]",
      "text/plain": [
       "<Figure size 864x432 with 1 Axes>"
      ]
     },
     "metadata": {},
     "output_type": "display_data"
    }
   ],
   "source": [
    "plt.figure(figsize=(12,6))\n",
    "a=train_data.groupby(\"Name\",as_index=False)[\"Survived\"].mean()\n",
    "t=pd.pivot_table(data=a,index=pd.Index(l),values=\"Survived\")\n",
    "_=sns.barplot(x=\"Name\",y=\"Survived\",data=a,palette=\"rocket\",edgecolor=\"white\")\n",
    "__=_.set_xticks(range(len(l)),labels=l)"
   ]
  },
  {
   "cell_type": "code",
   "execution_count": 41,
   "id": "320ff95b",
   "metadata": {
    "scrolled": false
   },
   "outputs": [
    {
     "data": {
      "text/plain": [
       "Survived\n",
       "0    22.117887\n",
       "1    48.395408\n",
       "Name: Fare, dtype: float64"
      ]
     },
     "execution_count": 41,
     "metadata": {},
     "output_type": "execute_result"
    }
   ],
   "source": [
    "train_data.groupby(\"Survived\")[\"Fare\"].mean()"
   ]
  },
  {
   "cell_type": "markdown",
   "id": "789a68d5",
   "metadata": {},
   "source": [
    "### People who survived belonged to higher fare category"
   ]
  },
  {
   "cell_type": "code",
   "execution_count": 42,
   "id": "cad6918c",
   "metadata": {
    "scrolled": false
   },
   "outputs": [
    {
     "data": {
      "text/plain": [
       "([<matplotlib.axis.XTick at 0x26a18785a88>,\n",
       "  <matplotlib.axis.XTick at 0x26a18550d08>],\n",
       " [Text(0, 0, 'Died'), Text(1, 0, 'Survived')])"
      ]
     },
     "execution_count": 42,
     "metadata": {},
     "output_type": "execute_result"
    },
    {
     "data": {
      "image/png": "[encoded data removed]",
      "text/plain": [
       "<Figure size 648x360 with 1 Axes>"
      ]
     },
     "metadata": {},
     "output_type": "display_data"
    }
   ],
   "source": [
    "plt.figure(figsize=(9,5))\n",
    "_=sns.boxplot(x=\"Survived\",y=\"Fare_Cat\",hue=\"Survived\",data=train_data)\n",
    "loc,labels=plt.xticks()\n",
    "plt.xticks(loc,labels=[\"Died\",\"Survived\"])"
   ]
  },
  {
   "cell_type": "markdown",
   "id": "0e0bc6e3",
   "metadata": {},
   "source": [
    "### Dropping the columns that we will not need"
   ]
  },
  {
   "cell_type": "code",
   "execution_count": 43,
   "id": "6d9f3761",
   "metadata": {
    "scrolled": true
   },
   "outputs": [],
   "source": [
    "train_data.drop([\"Age\",\"Ticket\",\"Fare_Cat\"],axis=1,inplace=True)\n",
    "test_data.drop([\"Age\",\"Ticket\",\"Fare_Cat\",],axis=1,inplace=True)\n",
    "ids=test_data.pop(\"PassengerId\")\n",
    "train_data_target=train_data.pop(\"Survived\")"
   ]
  },
  {
   "cell_type": "markdown",
   "id": "242cf4d5",
   "metadata": {},
   "source": [
    "## Normalizing the Data"
   ]
  },
  {
   "cell_type": "code",
   "execution_count": 44,
   "id": "19f9d89f",
   "metadata": {},
   "outputs": [],
   "source": [
    "scaler=StandardScaler()\n",
    "scaler.fit(train_data)\n",
    "train_data_scaled=scaler.transform(train_data)\n",
    "test_data_scaled=scaler.transform(test_data)"
   ]
  },
  {
   "cell_type": "markdown",
   "id": "d9621aa6",
   "metadata": {},
   "source": [
    "# <ins>Testing some models</ins>"
   ]
  },
  {
   "cell_type": "code",
   "execution_count": 45,
   "id": "07f75da1",
   "metadata": {},
   "outputs": [
    {
     "data": {
      "text/plain": [
       "(0.8036153683914511, 0.02161495815673101)"
      ]
     },
     "execution_count": 45,
     "metadata": {},
     "output_type": "execute_result"
    }
   ],
   "source": [
    "clf = GaussianNB()\n",
    "scores = cross_val_score(clf, train_data_scaled,train_data_target, cv=7)\n",
    "clf.fit(train_data_scaled,train_data_target)\n",
    "result_clf=clf.predict(test_data_scaled)\n",
    "scores.mean(),scores.std()"
   ]
  },
  {
   "cell_type": "code",
   "execution_count": 46,
   "id": "e2c9205c",
   "metadata": {},
   "outputs": [
    {
     "data": {
      "text/plain": [
       "(0.820470683352081, 0.03454553680162272)"
      ]
     },
     "execution_count": 46,
     "metadata": {},
     "output_type": "execute_result"
    }
   ],
   "source": [
    "from sklearn.model_selection import cross_val_score\n",
    "clf=SVC(C=1,gamma=0.2,kernel=\"rbf\")\n",
    "scores=cross_val_score(clf,train_data_scaled,train_data_target,cv=7)\n",
    "clf.fit(train_data_scaled,train_data_target)\n",
    "scores.mean(),scores.std()"
   ]
  },
  {
   "cell_type": "code",
   "execution_count": 47,
   "id": "57389022",
   "metadata": {},
   "outputs": [
    {
     "data": {
      "text/plain": [
       "(0.7901512773837173, 0.027646544540279788)"
      ]
     },
     "execution_count": 47,
     "metadata": {},
     "output_type": "execute_result"
    }
   ],
   "source": [
    "from sklearn.tree import DecisionTreeClassifier\n",
    "decision_tree = DecisionTreeClassifier(max_features=\"auto\",min_samples_leaf=1,min_samples_split=7)\n",
    "score=cross_val_score(decision_tree,train_data_scaled,train_data_target)\n",
    "decision_tree.fit(train_data_scaled,train_data_target)\n",
    "score.mean(),score.std()"
   ]
  },
  {
   "cell_type": "code",
   "execution_count": 48,
   "id": "f54f7241",
   "metadata": {},
   "outputs": [
    {
     "data": {
      "text/plain": [
       "(0.8182121766029246, 0.02134292347597264)"
      ]
     },
     "execution_count": 48,
     "metadata": {},
     "output_type": "execute_result"
    }
   ],
   "source": [
    "from sklearn.ensemble import RandomForestClassifier\n",
    "forest=RandomForestClassifier(criterion=\"gini\",min_samples_split=4,n_estimators=200,n_jobs=-1)\n",
    "scores=cross_val_score(forest,train_data_scaled,train_data_target,cv=7)\n",
    "forest.fit(train_data_scaled,train_data_target)\n",
    "forest.fit(train_data_scaled,train_data_target)\n",
    "scores.mean(),scores.std()"
   ]
  },
  {
   "cell_type": "code",
   "execution_count": 49,
   "id": "52a5785e",
   "metadata": {
    "scrolled": false
   },
   "outputs": [
    {
     "data": {
      "text/plain": [
       "<AxesSubplot:xlabel='Feature_Importance'>"
      ]
     },
     "execution_count": 49,
     "metadata": {},
     "output_type": "execute_result"
    },
    {
     "data": {
      "image/png": "[encoded data removed]",
      "text/plain": [
       "<Figure size 1080x720 with 1 Axes>"
      ]
     },
     "metadata": {},
     "output_type": "display_data"
    }
   ],
   "source": [
    "importances_df=pd.DataFrame(forest.feature_importances_,columns=[\"Feature_Importance\"],index=train_data.columns)\n",
    "importances_df.sort_values(by=[\"Feature_Importance\"],inplace=True,ascending=False)\n",
    "f=plt.figure(figsize=(15,10))\n",
    "ax=f.gca()\n",
    "sns.barplot(y=importances_df.index,x=importances_df.Feature_Importance,orient=\"h\",ax=ax)"
   ]
  },
  {
   "cell_type": "markdown",
   "id": "7d9709cf",
   "metadata": {},
   "source": [
    "# SVC is the best model (score in kaggle 0.78468)"
   ]
  }
 ],
 "metadata": {
  "kernelspec": {
   "display_name": "Python 3 (ipykernel)",
   "language": "python",
   "name": "python3"
  },
  "language_info": {
   "codemirror_mode": {
    "name": "ipython",
    "version": 3
   },
   "file_extension": ".py",
   "mimetype": "text/x-python",
   "name": "python",
   "nbconvert_exporter": "python",
   "pygments_lexer": "ipython3",
   "version": "3.7.13"
  }
 },
 "nbformat": 4,
 "nbformat_minor": 5
}
